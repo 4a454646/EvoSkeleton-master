{
 "cells": [
  {
   "cell_type": "code",
   "execution_count": null,
   "metadata": {},
   "outputs": [],
   "source": [
    "import cv2\n",
    "import os\n",
    "\n",
    "width, height = (1500, 1500)\n",
    "fourcc = cv2.VideoWriter_fourcc('m', 'p', '4', 'v')\n",
    "writer = cv2.VideoWriter(\"hello_world.mp4\", fourcc, 24, (width, height))\n",
    "for f in sorted(os.listdir(\"outs\")):\n",
    "    img = cv2.imread(os.path.join(\"outs\", f))\n",
    "    writer.write(cv2.imread(os.path.join(\"outs\", f)))\n",
    "    # cv2.imshow(\"video\", cv2.imread(os.path.join(\"outs\", f)))\n",
    "    \n",
    "    \n",
    "writer.release()\n"
   ]
  },
  {
   "cell_type": "code",
   "execution_count": null,
   "metadata": {},
   "outputs": [],
   "source": []
  }
 ],
 "metadata": {
  "interpreter": {
   "hash": "cc378a7666fd3eee2c39db92d67f0f5595e9050382902d6af70c22ea2e477f8d"
  },
  "kernelspec": {
   "display_name": "Python 3.9.7 ('opencv-course')",
   "language": "python",
   "name": "python3"
  },
  "language_info": {
   "codemirror_mode": {
    "name": "ipython",
    "version": 3
   },
   "file_extension": ".py",
   "mimetype": "text/x-python",
   "name": "python",
   "nbconvert_exporter": "python",
   "pygments_lexer": "ipython3",
   "version": "3.9.7"
  },
  "orig_nbformat": 4
 },
 "nbformat": 4,
 "nbformat_minor": 2
}
